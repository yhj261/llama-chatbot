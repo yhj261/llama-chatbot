{
 "cells": [
  {
   "cell_type": "code",
   "execution_count": 1,
   "metadata": {},
   "outputs": [],
   "source": [
    "from openai import OpenAI\n",
    "from langchain_openai import ChatOpenAI\n",
    "\n",
    "# llm_client = OpenAI(\n",
    "llm_client = ChatOpenAI(\n",
    "    base_url=\"http://localhost:8001/v1\",\n",
    "    api_key=\"dummy\",\n",
    "    model=\"/home/yhj2263/llama/models/Llama-3.1-8B-Instruct\"\n",
    ")"
   ]
  },
  {
   "cell_type": "code",
   "execution_count": 35,
   "metadata": {},
   "outputs": [],
   "source": [
    "from langchain_core.pydantic_v1 import BaseModel, Field\n",
    "\n",
    "\n",
    "class GetWeather(BaseModel):\n",
    "    '''Get the current weather in a given location'''\n",
    "\n",
    "    location: str = Field(\n",
    "        ..., description=\"The city and state, e.g. San Francisco, CA\"\n",
    "    )\n",
    "\n",
    "\n",
    "class GetPopulation(BaseModel):\n",
    "    '''Get the current population in a given location'''\n",
    "\n",
    "    location: str = Field(\n",
    "        ..., description=\"The city and state, e.g. San Francisco, CA\"\n",
    "    )\n",
    "\n",
    "\n",
    "llm_with_tools = llm_client.bind_tools(\n",
    "    [GetWeather, GetPopulation]\n",
    ")"
   ]
  },
  {
   "cell_type": "code",
   "execution_count": 36,
   "metadata": {},
   "outputs": [
    {
     "data": {
      "text/plain": [
       "[{'name': 'GetWeather',\n",
       "  'args': {'location': 'Los Angeles, CA'},\n",
       "  'id': 'chatcmpl-tool-5959e912caae46859bd77da5c26f62a5',\n",
       "  'type': 'tool_call'},\n",
       " {'name': 'GetWeather',\n",
       "  'args': {'location': 'New York, NY'},\n",
       "  'id': 'chatcmpl-tool-c5a9efdbbef1495f84785cbfe7f71ab9',\n",
       "  'type': 'tool_call'},\n",
       " {'name': 'GetPopulation',\n",
       "  'args': {'location': 'Los Angeles, CA'},\n",
       "  'id': 'chatcmpl-tool-c89ac6e843b14724982ff5f1478fb7d7',\n",
       "  'type': 'tool_call'},\n",
       " {'name': 'GetPopulation',\n",
       "  'args': {'location': 'New York, NY'},\n",
       "  'id': 'chatcmpl-tool-8ae95126eb6f4736a07f35fa56611c3b',\n",
       "  'type': 'tool_call'}]"
      ]
     },
     "execution_count": 36,
     "metadata": {},
     "output_type": "execute_result"
    }
   ],
   "source": [
    "ai_msg = llm_with_tools.invoke(\n",
    "    \"Which city is hotter today and which is bigger: LA or NY?\"\n",
    ")\n",
    "ai_msg.tool_calls"
   ]
  },
  {
   "cell_type": "markdown",
   "metadata": {},
   "source": []
  },
  {
   "cell_type": "code",
   "execution_count": 37,
   "metadata": {},
   "outputs": [],
   "source": [
    "from typing import Annotated\n",
    "\n",
    "from typing_extensions import TypedDict\n",
    "\n",
    "from langgraph.graph import StateGraph, START, END\n",
    "from langgraph.graph.message import add_messages\n",
    "\n",
    "\n",
    "class State(TypedDict):\n",
    "    # Messages have the type \"list\". The `add_messages` function\n",
    "    # in the annotation defines how this state key should be updated\n",
    "    # (in this case, it appends messages to the list, rather than overwriting them)\n",
    "    messages: Annotated[list, add_messages]\n",
    "\n",
    "\n",
    "graph_builder = StateGraph(State)"
   ]
  },
  {
   "cell_type": "code",
   "execution_count": 38,
   "metadata": {},
   "outputs": [
    {
     "data": {
      "text/plain": [
       "<langgraph.graph.state.StateGraph at 0x7f53414a8cb0>"
      ]
     },
     "execution_count": 38,
     "metadata": {},
     "output_type": "execute_result"
    }
   ],
   "source": [
    "def chatbot(state: State):\n",
    "    return {\"messages\": [llm.invoke(state[\"messages\"])]}\n",
    "\n",
    "\n",
    "# The first argument is the unique node name\n",
    "# The second argument is the function or object that will be called whenever\n",
    "# the node is used.\n",
    "graph_builder.add_node(\"chatbot\", chatbot)\n",
    "graph_builder.add_edge(START, \"chatbot\")\n",
    "graph_builder.add_edge(\"chatbot\", END)\n",
    "graph = graph_builder.compile()"
   ]
  },
  {
   "cell_type": "code",
   "execution_count": null,
   "metadata": {},
   "outputs": [],
   "source": []
  },
  {
   "cell_type": "code",
   "execution_count": 2,
   "metadata": {},
   "outputs": [],
   "source": [
    "from typing import Annotated\n",
    "\n",
    "from langchain_core.tools import tool\n",
    "from typing_extensions import TypedDict\n",
    "\n",
    "from langgraph.checkpoint.memory import MemorySaver\n",
    "from langgraph.graph import StateGraph, START, END\n",
    "from langgraph.graph.message import add_messages\n",
    "from langgraph.prebuilt import ToolNode, tools_condition\n",
    "from langgraph.types import Command, interrupt\n",
    "import pandas as pd\n",
    "import numpy as np\n",
    "import json\n",
    "import matplotlib.pyplot as plt\n",
    "\n",
    "\n",
    "class State(TypedDict):\n",
    "    messages: Annotated[list, add_messages]\n",
    "\n",
    "\n",
    "graph_builder = StateGraph(State)\n",
    "\n",
    "\n",
    "@tool\n",
    "def get_time_series_data(start_date, end_date) -> str:\n",
    "    \"\"\"Get time series data.\"\"\"\n",
    "    # generate random time series data between start_date and end_date\n",
    "    df = pd.DataFrame({\n",
    "        'date': pd.date_range(start_date, end_date),\n",
    "        'value': np.random.randn(10)\n",
    "    })\n",
    "    data_dict = df.to_dict(orient=\"list\")\n",
    "    json_data = json.dumps(data_dict, default=str)\n",
    "    return json_data\n",
    "\n",
    "@tool\n",
    "def plot_time_series_data(data: str) -> str:\n",
    "    \"\"\"Plot time series data.\"\"\"\n",
    "    # plot time series data\n",
    "    json_data = json.loads(data)\n",
    "    df = pd.DataFrame(json_data)\n",
    "    df.plot(x='date', y='value')\n",
    "    plt.show()\n",
    "    # fig.show()\n",
    "    return \"Time series data plotted.\" \n",
    "\n",
    "\n",
    "tools = [get_time_series_data, plot_time_series_data]\n",
    "llm_with_tools = llm_client.bind_tools(tools)\n",
    "\n",
    "\n",
    "def chatbot(state: State):\n",
    "    message = llm_with_tools.invoke(state[\"messages\"])\n",
    "    assert(len(message.tool_calls) <= 1)\n",
    "    return {\"messages\": [message]}\n",
    "\n",
    "\n",
    "graph_builder.add_node(\"chatbot\", chatbot)\n",
    "\n",
    "tool_node = ToolNode(tools=tools)\n",
    "graph_builder.add_node(\"tools\", tool_node)\n",
    "\n",
    "graph_builder.add_conditional_edges(\n",
    "    \"chatbot\",\n",
    "    tools_condition,\n",
    ")\n",
    "graph_builder.add_edge(\"tools\", \"chatbot\")\n",
    "graph_builder.add_edge(START, \"chatbot\")\n",
    "\n",
    "memory = MemorySaver()\n",
    "graph = graph_builder.compile(checkpointer=memory)"
   ]
  },
  {
   "cell_type": "code",
   "execution_count": 3,
   "metadata": {},
   "outputs": [
    {
     "data": {
      "image/png": "[encoded data removed]",
      "text/plain": [
       "<IPython.core.display.Image object>"
      ]
     },
     "metadata": {},
     "output_type": "display_data"
    }
   ],
   "source": [
    "from IPython.display import Image, display\n",
    "\n",
    "try:\n",
    "    display(Image(graph.get_graph().draw_mermaid_png()))\n",
    "except Exception:\n",
    "    # This requires some extra dependencies and is optional\n",
    "    pass"
   ]
  },
  {
   "cell_type": "code",
   "execution_count": null,
   "metadata": {},
   "outputs": [
    {
     "name": "stdout",
     "output_type": "stream",
     "text": [
      "================================\u001b[1m Human Message \u001b[0m=================================\n",
      "\n",
      "I want a time series data between 2021-01-01 and 2021-01-10, don't plot the data\n",
      "==================================\u001b[1m Ai Message \u001b[0m==================================\n",
      "Tool Calls:\n",
      "  get_time_series_data (chatcmpl-tool-f66872b8ce8d477bb58c27bbb465728b)\n",
      " Call ID: chatcmpl-tool-f66872b8ce8d477bb58c27bbb465728b\n",
      "  Args:\n",
      "    start_date: 2021-01-01\n",
      "    end_date: 2021-01-10\n",
      "=================================\u001b[1m Tool Message \u001b[0m=================================\n",
      "Name: get_time_series_data\n",
      "\n",
      "{\"date\": [\"2021-01-01 00:00:00\", \"2021-01-02 00:00:00\", \"2021-01-03 00:00:00\", \"2021-01-04 00:00:00\", \"2021-01-05 00:00:00\", \"2021-01-06 00:00:00\", \"2021-01-07 00:00:00\", \"2021-01-08 00:00:00\", \"2021-01-09 00:00:00\", \"2021-01-10 00:00:00\"], \"value\": [0.05816119292223121, 1.1796014193653515, -0.4147295141636129, -0.4704793292634438, 1.1096771575764766, 0.01094088970442896, -1.3664786739292136, -1.1347325517254794, 0.778115813099336, 0.40065457961078266]}\n",
      "==================================\u001b[1m Ai Message \u001b[0m==================================\n",
      "\n",
      "The time series data between 2021-01-01 and 2021-01-10 has been retrieved.\n"
     ]
    }
   ],
   "source": [
    "%matplotlib inline\n",
    "\n",
    "# user_input = \"I need some expert guidance for building an AI agent. Could you request assistance for me?\"\n",
    "user_input = \"I want a time series data between 2021-01-01 and 2021-01-10, don't plot the data\"\n",
    "# user_input = \"Please also plot the data\"\n",
    "config = {\"configurable\": {\"thread_id\": \"1\"}}\n",
    "\n",
    "events = graph.stream(\n",
    "    {\"messages\": [{\"role\": \"user\", \"content\": user_input}]},\n",
    "    config,\n",
    "    stream_mode=\"values\",\n",
    ")\n",
    "for event in events:\n",
    "    if \"messages\" in event:\n",
    "        event[\"messages\"][-1].pretty_print()"
   ]
  },
  {
   "cell_type": "code",
   "execution_count": 7,
   "metadata": {},
   "outputs": [
    {
     "name": "stdout",
     "output_type": "stream",
     "text": [
      "================================\u001b[1m Human Message \u001b[0m=================================\n",
      "\n",
      "I want a time series data between 2021-01-01 and 2021-01-10, please also plot the data\n",
      "==================================\u001b[1m Ai Message \u001b[0m==================================\n",
      "Tool Calls:\n",
      "  get_time_series_data (chatcmpl-tool-bc941ad40c054f059bf3b40a6b0e853e)\n",
      " Call ID: chatcmpl-tool-bc941ad40c054f059bf3b40a6b0e853e\n",
      "  Args:\n",
      "    start_date: 2021-01-01\n",
      "    end_date: 2021-01-10\n",
      "=================================\u001b[1m Tool Message \u001b[0m=================================\n",
      "Name: get_time_series_data\n",
      "\n",
      "{\"date\": [\"2021-01-01 00:00:00\", \"2021-01-02 00:00:00\", \"2021-01-03 00:00:00\", \"2021-01-04 00:00:00\", \"2021-01-05 00:00:00\", \"2021-01-06 00:00:00\", \"2021-01-07 00:00:00\", \"2021-01-08 00:00:00\", \"2021-01-09 00:00:00\", \"2021-01-10 00:00:00\"], \"value\": [-1.207794628927208, 0.41861276391097824, -0.033467177480204995, 1.84895827096554, 1.405048390640455, 0.08337657228589866, 1.321202519454162, -0.5038330152173371, -1.2780582199623562, -0.6212967227879282]}\n",
      "==================================\u001b[1m Ai Message \u001b[0m==================================\n",
      "Tool Calls:\n",
      "  plot_time_series_data (chatcmpl-tool-a02ff3deb29a4afcb754d3fd58221fee)\n",
      " Call ID: chatcmpl-tool-a02ff3deb29a4afcb754d3fd58221fee\n",
      "  Args:\n",
      "    data: {\"date\": [\"2021-01-01 00:00:00\", \"2021-01-02 00:00:00\", \"2021-01-03 00:00:00\", \"2021-01-04 00:00:00\", \"2021-01-05 00:00:00\", \"2021-01-06 00:00:00\", \"2021-01-07 00:00:00\", \"2021-01-08 00:00:00\", \"2021-01-09 00:00:00\", \"2021-01-10 00:00:00\"], \"value\": [-1.207794628927208, 0.41861276391097824, -0.033467177480204995, 1.84895827096554, 1.405048390640455, 0.08337657228589866, 1.321202519454162, -0.5038330152173371, -1.2780582199623562, -0.6212967227879282]}\n"
     ]
    },
    {
     "data": {
      "image/png": "[encoded data removed]",
      "text/plain": [
       "<Figure size 640x480 with 1 Axes>"
      ]
     },
     "metadata": {},
     "output_type": "display_data"
    },
    {
     "name": "stdout",
     "output_type": "stream",
     "text": [
      "=================================\u001b[1m Tool Message \u001b[0m=================================\n",
      "Name: plot_time_series_data\n",
      "\n",
      "Time series data plotted.\n",
      "==================================\u001b[1m Ai Message \u001b[0m==================================\n",
      "\n",
      "The time series data between 2021-01-01 and 2021-01-10 has been retrieved and plotted.\n"
     ]
    }
   ],
   "source": [
    "user_input = \"I want a time series data between 2021-01-01 and 2021-01-10, please also plot the data\"\n",
    "# user_input = \"Please also plot the data\"\n",
    "config = {\"configurable\": {\"thread_id\": \"1\"}}\n",
    "\n",
    "events = graph.stream(\n",
    "    {\"messages\": [{\"role\": \"user\", \"content\": user_input}]},\n",
    "    config,\n",
    "    stream_mode=\"values\",\n",
    ")\n",
    "for event in events:\n",
    "    if \"messages\" in event:\n",
    "        event[\"messages\"][-1].pretty_print()"
   ]
  },
  {
   "cell_type": "code",
   "execution_count": null,
   "metadata": {},
   "outputs": [],
   "source": []
  }
 ],
 "metadata": {
  "kernelspec": {
   "display_name": "llama312",
   "language": "python",
   "name": "python3"
  },
  "language_info": {
   "codemirror_mode": {
    "name": "ipython",
    "version": 3
   },
   "file_extension": ".py",
   "mimetype": "text/x-python",
   "name": "python",
   "nbconvert_exporter": "python",
   "pygments_lexer": "ipython3",
   "version": "3.12.8"
  }
 },
 "nbformat": 4,
 "nbformat_minor": 2
}
